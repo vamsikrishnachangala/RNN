{
  "nbformat": 4,
  "nbformat_minor": 0,
  "metadata": {
    "colab": {
      "name": "Recurrent_Neural_Network.ipynb",
      "provenance": [],
      "collapsed_sections": []
    },
    "kernelspec": {
      "name": "python3",
      "display_name": "Python 3"
    }
  },
  "cells": [
    {
      "cell_type": "markdown",
      "metadata": {
        "id": "hGpYp2fmcm9J",
        "colab_type": "text"
      },
      "source": [
        "# **Recurrent Neural Network**"
      ]
    },
    {
      "cell_type": "markdown",
      "metadata": {
        "id": "af7t59pwcsOe",
        "colab_type": "text"
      },
      "source": [
        "importing required libraries"
      ]
    },
    {
      "cell_type": "code",
      "metadata": {
        "id": "uNyvoZGkasO4",
        "colab_type": "code",
        "colab": {}
      },
      "source": [
        "import matplotlib.pyplot as plt\n",
        "import numpy as np\n",
        "import pandas as pd"
      ],
      "execution_count": 52,
      "outputs": []
    },
    {
      "cell_type": "markdown",
      "metadata": {
        "id": "fQa_O1pIc2as",
        "colab_type": "text"
      },
      "source": [
        "setting max rows and max columns in pandas"
      ]
    },
    {
      "cell_type": "code",
      "metadata": {
        "id": "dMaJVVQxc8Ut",
        "colab_type": "code",
        "colab": {}
      },
      "source": [
        "pd.set_option('display.max_rows',100)\n",
        "pd.set_option('display.max_columns',100)"
      ],
      "execution_count": 53,
      "outputs": []
    },
    {
      "cell_type": "markdown",
      "metadata": {
        "id": "oIT7y-nIdKR9",
        "colab_type": "text"
      },
      "source": [
        "importing the dataset"
      ]
    },
    {
      "cell_type": "code",
      "metadata": {
        "id": "RJ-XU5YrdMzu",
        "colab_type": "code",
        "colab": {
          "base_uri": "https://localhost:8080/",
          "height": 195
        },
        "outputId": "5bea63e3-bc23-4dae-c9cb-3c3f7c860027"
      },
      "source": [
        "dataset=pd.read_csv('Google_Stock_Price_Train.csv')\n",
        "dataset.head()"
      ],
      "execution_count": 54,
      "outputs": [
        {
          "output_type": "execute_result",
          "data": {
            "text/html": [
              "<div>\n",
              "<style scoped>\n",
              "    .dataframe tbody tr th:only-of-type {\n",
              "        vertical-align: middle;\n",
              "    }\n",
              "\n",
              "    .dataframe tbody tr th {\n",
              "        vertical-align: top;\n",
              "    }\n",
              "\n",
              "    .dataframe thead th {\n",
              "        text-align: right;\n",
              "    }\n",
              "</style>\n",
              "<table border=\"1\" class=\"dataframe\">\n",
              "  <thead>\n",
              "    <tr style=\"text-align: right;\">\n",
              "      <th></th>\n",
              "      <th>Date</th>\n",
              "      <th>Open</th>\n",
              "      <th>High</th>\n",
              "      <th>Low</th>\n",
              "      <th>Close</th>\n",
              "      <th>Volume</th>\n",
              "    </tr>\n",
              "  </thead>\n",
              "  <tbody>\n",
              "    <tr>\n",
              "      <th>0</th>\n",
              "      <td>1/3/2012</td>\n",
              "      <td>325.25</td>\n",
              "      <td>332.83</td>\n",
              "      <td>324.97</td>\n",
              "      <td>663.59</td>\n",
              "      <td>7,380,500</td>\n",
              "    </tr>\n",
              "    <tr>\n",
              "      <th>1</th>\n",
              "      <td>1/4/2012</td>\n",
              "      <td>331.27</td>\n",
              "      <td>333.87</td>\n",
              "      <td>329.08</td>\n",
              "      <td>666.45</td>\n",
              "      <td>5,749,400</td>\n",
              "    </tr>\n",
              "    <tr>\n",
              "      <th>2</th>\n",
              "      <td>1/5/2012</td>\n",
              "      <td>329.83</td>\n",
              "      <td>330.75</td>\n",
              "      <td>326.89</td>\n",
              "      <td>657.21</td>\n",
              "      <td>6,590,300</td>\n",
              "    </tr>\n",
              "    <tr>\n",
              "      <th>3</th>\n",
              "      <td>1/6/2012</td>\n",
              "      <td>328.34</td>\n",
              "      <td>328.77</td>\n",
              "      <td>323.68</td>\n",
              "      <td>648.24</td>\n",
              "      <td>5,405,900</td>\n",
              "    </tr>\n",
              "    <tr>\n",
              "      <th>4</th>\n",
              "      <td>1/9/2012</td>\n",
              "      <td>322.04</td>\n",
              "      <td>322.29</td>\n",
              "      <td>309.46</td>\n",
              "      <td>620.76</td>\n",
              "      <td>11,688,800</td>\n",
              "    </tr>\n",
              "  </tbody>\n",
              "</table>\n",
              "</div>"
            ],
            "text/plain": [
              "       Date    Open    High     Low   Close      Volume\n",
              "0  1/3/2012  325.25  332.83  324.97  663.59   7,380,500\n",
              "1  1/4/2012  331.27  333.87  329.08  666.45   5,749,400\n",
              "2  1/5/2012  329.83  330.75  326.89  657.21   6,590,300\n",
              "3  1/6/2012  328.34  328.77  323.68  648.24   5,405,900\n",
              "4  1/9/2012  322.04  322.29  309.46  620.76  11,688,800"
            ]
          },
          "metadata": {
            "tags": []
          },
          "execution_count": 54
        }
      ]
    },
    {
      "cell_type": "markdown",
      "metadata": {
        "id": "LP27bP7Pd1pa",
        "colab_type": "text"
      },
      "source": [
        "making training set"
      ]
    },
    {
      "cell_type": "code",
      "metadata": {
        "id": "752UDODmdvo4",
        "colab_type": "code",
        "colab": {}
      },
      "source": [
        "training_set=dataset.iloc[:,1:2].values"
      ],
      "execution_count": 4,
      "outputs": []
    },
    {
      "cell_type": "markdown",
      "metadata": {
        "id": "kVPdSatNd21S",
        "colab_type": "text"
      },
      "source": [
        "Feature scaling"
      ]
    },
    {
      "cell_type": "code",
      "metadata": {
        "id": "uG06CVcPd59o",
        "colab_type": "code",
        "colab": {
          "base_uri": "https://localhost:8080/",
          "height": 195
        },
        "outputId": "95988543-3c63-46d4-d178-d4c1044912f0"
      },
      "source": [
        "from sklearn.preprocessing import MinMaxScaler\n",
        "sc=MinMaxScaler(feature_range(0,1))\n",
        "training_set_scaled=sc.fit_transform(training_set)"
      ],
      "execution_count": 55,
      "outputs": [
        {
          "output_type": "error",
          "ename": "NameError",
          "evalue": "ignored",
          "traceback": [
            "\u001b[0;31m---------------------------------------------------------------------------\u001b[0m",
            "\u001b[0;31mNameError\u001b[0m                                 Traceback (most recent call last)",
            "\u001b[0;32m<ipython-input-55-edb174aabd37>\u001b[0m in \u001b[0;36m<module>\u001b[0;34m()\u001b[0m\n\u001b[1;32m      1\u001b[0m \u001b[0;32mfrom\u001b[0m \u001b[0msklearn\u001b[0m\u001b[0;34m.\u001b[0m\u001b[0mpreprocessing\u001b[0m \u001b[0;32mimport\u001b[0m \u001b[0mMinMaxScaler\u001b[0m\u001b[0;34m\u001b[0m\u001b[0;34m\u001b[0m\u001b[0m\n\u001b[0;32m----> 2\u001b[0;31m \u001b[0msc\u001b[0m\u001b[0;34m=\u001b[0m\u001b[0mMinMaxScaler\u001b[0m\u001b[0;34m(\u001b[0m\u001b[0mfeature_range\u001b[0m\u001b[0;34m(\u001b[0m\u001b[0;36m0\u001b[0m\u001b[0;34m,\u001b[0m\u001b[0;36m1\u001b[0m\u001b[0;34m)\u001b[0m\u001b[0;34m)\u001b[0m\u001b[0;34m\u001b[0m\u001b[0;34m\u001b[0m\u001b[0m\n\u001b[0m\u001b[1;32m      3\u001b[0m \u001b[0mtraining_set_scaled\u001b[0m\u001b[0;34m=\u001b[0m\u001b[0msc\u001b[0m\u001b[0;34m.\u001b[0m\u001b[0mfit_transform\u001b[0m\u001b[0;34m(\u001b[0m\u001b[0mtraining_set\u001b[0m\u001b[0;34m)\u001b[0m\u001b[0;34m\u001b[0m\u001b[0;34m\u001b[0m\u001b[0m\n",
            "\u001b[0;31mNameError\u001b[0m: name 'feature_range' is not defined"
          ]
        }
      ]
    },
    {
      "cell_type": "markdown",
      "metadata": {
        "id": "OMG-V5kjeV9k",
        "colab_type": "text"
      },
      "source": [
        "here we used normalization instead of standardization cause we want values to be in between 0 to 1(RNN recommended)"
      ]
    },
    {
      "cell_type": "markdown",
      "metadata": {
        "id": "0Ts8zL-zeuF0",
        "colab_type": "text"
      },
      "source": [
        "Creating a data structure with 60 timesteps and 1 output"
      ]
    },
    {
      "cell_type": "code",
      "metadata": {
        "id": "uNsQp4V2e1_e",
        "colab_type": "code",
        "colab": {}
      },
      "source": [
        "x_train=[]\n",
        "y_train=[]\n",
        "for i in range(60,1258):\n",
        "  x_train.append(training_set_scaled[i-60:i,0])\n",
        "  y_train.append(training_set_scaled[i,0])\n",
        "x_train,y_train=np.array(x_train),np.array(y_train)"
      ],
      "execution_count": 56,
      "outputs": []
    },
    {
      "cell_type": "markdown",
      "metadata": {
        "id": "WvFg2iHwfUej",
        "colab_type": "text"
      },
      "source": [
        "creating x_train from 60 time stamp i.e we are starting from 59th row and appending previous 60 values from there to form a data structure\n",
        "\n",
        "y_train has 60th row value which is to be predicted from using previous 60 days stock prices\n",
        "\n",
        "we are changing data type of x_train and y_train cause keras only accept numpy arrays as input"
      ]
    },
    {
      "cell_type": "markdown",
      "metadata": {
        "id": "yBd8K6HogGIf",
        "colab_type": "text"
      },
      "source": [
        "Reshaping the trainset"
      ]
    },
    {
      "cell_type": "code",
      "metadata": {
        "id": "HF3p2Nw2gRF-",
        "colab_type": "code",
        "colab": {}
      },
      "source": [
        "x_train=np.reshape(x_train,(x_train.shape[0],x_train.shape[1],1))"
      ],
      "execution_count": 57,
      "outputs": []
    },
    {
      "cell_type": "markdown",
      "metadata": {
        "id": "ImznYDTcgetF",
        "colab_type": "text"
      },
      "source": [
        "here the input is reshaped into 3 dimensions i.e we are inputting 60 time stamps(stacks of 60 values at once) values into rnn once to predict 61 day stock price"
      ]
    },
    {
      "cell_type": "markdown",
      "metadata": {
        "id": "qYcCSrTCjN5U",
        "colab_type": "text"
      },
      "source": [
        "importing tensorflow and keras"
      ]
    },
    {
      "cell_type": "code",
      "metadata": {
        "id": "4DdU_PdLjTop",
        "colab_type": "code",
        "colab": {}
      },
      "source": [
        "import tensorflow.keras as tf"
      ],
      "execution_count": 58,
      "outputs": []
    },
    {
      "cell_type": "markdown",
      "metadata": {
        "id": "k7FFOr3Sg-Ev",
        "colab_type": "text"
      },
      "source": [
        "Initializing the rnn"
      ]
    },
    {
      "cell_type": "code",
      "metadata": {
        "id": "nZ-5B5-PjJ0e",
        "colab_type": "code",
        "colab": {}
      },
      "source": [
        "r=tf.models.Sequential()"
      ],
      "execution_count": 59,
      "outputs": []
    },
    {
      "cell_type": "markdown",
      "metadata": {
        "id": "X7_RgUjKjzql",
        "colab_type": "text"
      },
      "source": [
        "Adding first LSTM layer and some dropout"
      ]
    },
    {
      "cell_type": "code",
      "metadata": {
        "id": "afrEBUpPj4qd",
        "colab_type": "code",
        "colab": {}
      },
      "source": [
        "r.add(tf.layers.LSTM(units=50,return_sequences=True,input_shape=(x_train.shape[1],1)))\n",
        "r.add(tf.layers.Dropout(0.2))"
      ],
      "execution_count": 60,
      "outputs": []
    },
    {
      "cell_type": "markdown",
      "metadata": {
        "id": "rBoT-cKckY_d",
        "colab_type": "text"
      },
      "source": [
        "adding second LSTM"
      ]
    },
    {
      "cell_type": "code",
      "metadata": {
        "id": "kQ0S2CmgkbVP",
        "colab_type": "code",
        "colab": {}
      },
      "source": [
        "r.add(tf.layers.LSTM(units=50,return_sequences=True))\n",
        "r.add(tf.layers.Dropout(0.2))"
      ],
      "execution_count": 61,
      "outputs": []
    },
    {
      "cell_type": "markdown",
      "metadata": {
        "id": "67MMaOIUkhxk",
        "colab_type": "text"
      },
      "source": [
        "adding third LSTM"
      ]
    },
    {
      "cell_type": "code",
      "metadata": {
        "id": "x26wISyHkl1A",
        "colab_type": "code",
        "colab": {}
      },
      "source": [
        "r.add(tf.layers.LSTM(units=50,return_sequences=True))\n",
        "r.add(tf.layers.Dropout(0.2))"
      ],
      "execution_count": 62,
      "outputs": []
    },
    {
      "cell_type": "markdown",
      "metadata": {
        "id": "wMzGzyaoksSD",
        "colab_type": "text"
      },
      "source": [
        "adding fourth LSTM"
      ]
    },
    {
      "cell_type": "code",
      "metadata": {
        "id": "eN9k-8KHkuu9",
        "colab_type": "code",
        "colab": {}
      },
      "source": [
        "r.add(tf.layers.LSTM(units=50))\n",
        "r.add(tf.layers.Dropout(0.2))"
      ],
      "execution_count": 63,
      "outputs": []
    },
    {
      "cell_type": "markdown",
      "metadata": {
        "id": "b0xjZr6Vkz5Q",
        "colab_type": "text"
      },
      "source": [
        "adding output layer"
      ]
    },
    {
      "cell_type": "code",
      "metadata": {
        "id": "JH80X-l3k2QA",
        "colab_type": "code",
        "colab": {}
      },
      "source": [
        "r.add(tf.layers.Dense(units=1))"
      ],
      "execution_count": 64,
      "outputs": []
    },
    {
      "cell_type": "markdown",
      "metadata": {
        "id": "Ck2RdpXGrYdq",
        "colab_type": "text"
      },
      "source": [
        "Since we are predicting continuous values one dense output layer is enough"
      ]
    },
    {
      "cell_type": "markdown",
      "metadata": {
        "id": "NsDafq1vlPuv",
        "colab_type": "text"
      },
      "source": [
        "compiling the rnn"
      ]
    },
    {
      "cell_type": "code",
      "metadata": {
        "id": "vfEpCS5klSsk",
        "colab_type": "code",
        "colab": {}
      },
      "source": [
        "r.compile(optimizer='RMSprop',loss='mean_squared_error')"
      ],
      "execution_count": 70,
      "outputs": []
    },
    {
      "cell_type": "markdown",
      "metadata": {
        "id": "4Nhh86i3rkWD",
        "colab_type": "text"
      },
      "source": [
        "compiling rnn with RMSprop optimizer. loss is mean squared error since it is continuous output"
      ]
    },
    {
      "cell_type": "markdown",
      "metadata": {
        "id": "4LYE2u20lbhJ",
        "colab_type": "text"
      },
      "source": [
        "fitting the rnn"
      ]
    },
    {
      "cell_type": "code",
      "metadata": {
        "id": "Vee_GhuhldS7",
        "colab_type": "code",
        "colab": {
          "base_uri": "https://localhost:8080/",
          "height": 1000
        },
        "outputId": "5f2e4cfa-b342-4d04-c973-888934d23ac4"
      },
      "source": [
        "r.fit(x_train,y_train,epochs=100,batch_size=35)"
      ],
      "execution_count": 71,
      "outputs": [
        {
          "output_type": "stream",
          "text": [
            "Epoch 1/100\n",
            "35/35 [==============================] - 4s 110ms/step - loss: 0.0037\n",
            "Epoch 2/100\n",
            "35/35 [==============================] - 4s 128ms/step - loss: 0.0021\n",
            "Epoch 3/100\n",
            "35/35 [==============================] - 4s 128ms/step - loss: 0.0026\n",
            "Epoch 4/100\n",
            "35/35 [==============================] - 4s 122ms/step - loss: 0.0024\n",
            "Epoch 5/100\n",
            "35/35 [==============================] - 4s 119ms/step - loss: 0.0022\n",
            "Epoch 6/100\n",
            "35/35 [==============================] - 4s 125ms/step - loss: 0.0023\n",
            "Epoch 7/100\n",
            "35/35 [==============================] - 4s 122ms/step - loss: 0.0021\n",
            "Epoch 8/100\n",
            "35/35 [==============================] - 4s 125ms/step - loss: 0.0021\n",
            "Epoch 9/100\n",
            "35/35 [==============================] - 4s 125ms/step - loss: 0.0021\n",
            "Epoch 10/100\n",
            "35/35 [==============================] - 4s 123ms/step - loss: 0.0022\n",
            "Epoch 11/100\n",
            "35/35 [==============================] - 4s 119ms/step - loss: 0.0023\n",
            "Epoch 12/100\n",
            "35/35 [==============================] - 4s 120ms/step - loss: 0.0018\n",
            "Epoch 13/100\n",
            "35/35 [==============================] - 4s 119ms/step - loss: 0.0021\n",
            "Epoch 14/100\n",
            "35/35 [==============================] - 4s 124ms/step - loss: 0.0020\n",
            "Epoch 15/100\n",
            "35/35 [==============================] - 4s 117ms/step - loss: 0.0019\n",
            "Epoch 16/100\n",
            "35/35 [==============================] - 4s 119ms/step - loss: 0.0020\n",
            "Epoch 17/100\n",
            "35/35 [==============================] - 4s 117ms/step - loss: 0.0019\n",
            "Epoch 18/100\n",
            "35/35 [==============================] - 4s 119ms/step - loss: 0.0018\n",
            "Epoch 19/100\n",
            "35/35 [==============================] - 4s 124ms/step - loss: 0.0018\n",
            "Epoch 20/100\n",
            "35/35 [==============================] - 4s 128ms/step - loss: 0.0019\n",
            "Epoch 21/100\n",
            "35/35 [==============================] - 4s 127ms/step - loss: 0.0020\n",
            "Epoch 22/100\n",
            "35/35 [==============================] - 4s 120ms/step - loss: 0.0017\n",
            "Epoch 23/100\n",
            "35/35 [==============================] - 4s 122ms/step - loss: 0.0020\n",
            "Epoch 24/100\n",
            "35/35 [==============================] - 5s 135ms/step - loss: 0.0018\n",
            "Epoch 25/100\n",
            "35/35 [==============================] - 5s 141ms/step - loss: 0.0019\n",
            "Epoch 26/100\n",
            "35/35 [==============================] - 5s 131ms/step - loss: 0.0018\n",
            "Epoch 27/100\n",
            "35/35 [==============================] - 4s 125ms/step - loss: 0.0017\n",
            "Epoch 28/100\n",
            "35/35 [==============================] - 4s 119ms/step - loss: 0.0018\n",
            "Epoch 29/100\n",
            "35/35 [==============================] - 4s 123ms/step - loss: 0.0017\n",
            "Epoch 30/100\n",
            "35/35 [==============================] - 4s 124ms/step - loss: 0.0019\n",
            "Epoch 31/100\n",
            "35/35 [==============================] - 4s 123ms/step - loss: 0.0018\n",
            "Epoch 32/100\n",
            "35/35 [==============================] - 4s 126ms/step - loss: 0.0017\n",
            "Epoch 33/100\n",
            "35/35 [==============================] - 4s 125ms/step - loss: 0.0017\n",
            "Epoch 34/100\n",
            "35/35 [==============================] - 4s 121ms/step - loss: 0.0016\n",
            "Epoch 35/100\n",
            "35/35 [==============================] - 4s 122ms/step - loss: 0.0015\n",
            "Epoch 36/100\n",
            "35/35 [==============================] - 4s 122ms/step - loss: 0.0019\n",
            "Epoch 37/100\n",
            "35/35 [==============================] - 4s 123ms/step - loss: 0.0015\n",
            "Epoch 38/100\n",
            "35/35 [==============================] - 4s 124ms/step - loss: 0.0018\n",
            "Epoch 39/100\n",
            "35/35 [==============================] - 4s 125ms/step - loss: 0.0018\n",
            "Epoch 40/100\n",
            "35/35 [==============================] - 4s 125ms/step - loss: 0.0016\n",
            "Epoch 41/100\n",
            "35/35 [==============================] - 4s 119ms/step - loss: 0.0015\n",
            "Epoch 42/100\n",
            "35/35 [==============================] - 4s 125ms/step - loss: 0.0016\n",
            "Epoch 43/100\n",
            "35/35 [==============================] - 4s 128ms/step - loss: 0.0016\n",
            "Epoch 44/100\n",
            "35/35 [==============================] - 4s 122ms/step - loss: 0.0018\n",
            "Epoch 45/100\n",
            "35/35 [==============================] - 4s 129ms/step - loss: 0.0017\n",
            "Epoch 46/100\n",
            "35/35 [==============================] - 4s 124ms/step - loss: 0.0015\n",
            "Epoch 47/100\n",
            "35/35 [==============================] - 4s 126ms/step - loss: 0.0016\n",
            "Epoch 48/100\n",
            "35/35 [==============================] - 4s 120ms/step - loss: 0.0015\n",
            "Epoch 49/100\n",
            "35/35 [==============================] - 4s 124ms/step - loss: 0.0015\n",
            "Epoch 50/100\n",
            "35/35 [==============================] - 4s 121ms/step - loss: 0.0016\n",
            "Epoch 51/100\n",
            "35/35 [==============================] - 4s 120ms/step - loss: 0.0017\n",
            "Epoch 52/100\n",
            "35/35 [==============================] - 4s 121ms/step - loss: 0.0015\n",
            "Epoch 53/100\n",
            "35/35 [==============================] - 4s 124ms/step - loss: 0.0016\n",
            "Epoch 54/100\n",
            "35/35 [==============================] - 4s 125ms/step - loss: 0.0016\n",
            "Epoch 55/100\n",
            "35/35 [==============================] - 4s 121ms/step - loss: 0.0016\n",
            "Epoch 56/100\n",
            "35/35 [==============================] - 4s 126ms/step - loss: 0.0015\n",
            "Epoch 57/100\n",
            "35/35 [==============================] - 4s 120ms/step - loss: 0.0017\n",
            "Epoch 58/100\n",
            "35/35 [==============================] - 4s 124ms/step - loss: 0.0014\n",
            "Epoch 59/100\n",
            "35/35 [==============================] - 4s 120ms/step - loss: 0.0015\n",
            "Epoch 60/100\n",
            "35/35 [==============================] - 4s 127ms/step - loss: 0.0015\n",
            "Epoch 61/100\n",
            "35/35 [==============================] - 5s 130ms/step - loss: 0.0016\n",
            "Epoch 62/100\n",
            "35/35 [==============================] - 5s 130ms/step - loss: 0.0014\n",
            "Epoch 63/100\n",
            "35/35 [==============================] - 5s 131ms/step - loss: 0.0015\n",
            "Epoch 64/100\n",
            "35/35 [==============================] - 5s 131ms/step - loss: 0.0015\n",
            "Epoch 65/100\n",
            "35/35 [==============================] - 5s 132ms/step - loss: 0.0016\n",
            "Epoch 66/100\n",
            "35/35 [==============================] - 5s 131ms/step - loss: 0.0016\n",
            "Epoch 67/100\n",
            "35/35 [==============================] - 4s 128ms/step - loss: 0.0015\n",
            "Epoch 68/100\n",
            "35/35 [==============================] - 5s 129ms/step - loss: 0.0014\n",
            "Epoch 69/100\n",
            "35/35 [==============================] - 5s 131ms/step - loss: 0.0017\n",
            "Epoch 70/100\n",
            "35/35 [==============================] - 5s 131ms/step - loss: 0.0015\n",
            "Epoch 71/100\n",
            "35/35 [==============================] - 4s 128ms/step - loss: 0.0014\n",
            "Epoch 72/100\n",
            "35/35 [==============================] - 4s 128ms/step - loss: 0.0014\n",
            "Epoch 73/100\n",
            "35/35 [==============================] - 4s 124ms/step - loss: 0.0015\n",
            "Epoch 74/100\n",
            "35/35 [==============================] - 4s 129ms/step - loss: 0.0014\n",
            "Epoch 75/100\n",
            "35/35 [==============================] - 5s 129ms/step - loss: 0.0014\n",
            "Epoch 76/100\n",
            "35/35 [==============================] - 4s 124ms/step - loss: 0.0015\n",
            "Epoch 77/100\n",
            "35/35 [==============================] - 4s 125ms/step - loss: 0.0013\n",
            "Epoch 78/100\n",
            "35/35 [==============================] - 4s 122ms/step - loss: 0.0014\n",
            "Epoch 79/100\n",
            "35/35 [==============================] - 4s 122ms/step - loss: 0.0015\n",
            "Epoch 80/100\n",
            "35/35 [==============================] - 4s 124ms/step - loss: 0.0013\n",
            "Epoch 81/100\n",
            "35/35 [==============================] - 4s 124ms/step - loss: 0.0014\n",
            "Epoch 82/100\n",
            "35/35 [==============================] - 4s 121ms/step - loss: 0.0013\n",
            "Epoch 83/100\n",
            "35/35 [==============================] - 4s 126ms/step - loss: 0.0013\n",
            "Epoch 84/100\n",
            "35/35 [==============================] - 4s 120ms/step - loss: 0.0013\n",
            "Epoch 85/100\n",
            "35/35 [==============================] - 4s 124ms/step - loss: 0.0013\n",
            "Epoch 86/100\n",
            "35/35 [==============================] - 4s 124ms/step - loss: 0.0014\n",
            "Epoch 87/100\n",
            "35/35 [==============================] - 4s 121ms/step - loss: 0.0012\n",
            "Epoch 88/100\n",
            "35/35 [==============================] - 5s 131ms/step - loss: 0.0015\n",
            "Epoch 89/100\n",
            "35/35 [==============================] - 4s 121ms/step - loss: 0.0013\n",
            "Epoch 90/100\n",
            "35/35 [==============================] - 4s 125ms/step - loss: 0.0014\n",
            "Epoch 91/100\n",
            "35/35 [==============================] - 4s 119ms/step - loss: 0.0014\n",
            "Epoch 92/100\n",
            "35/35 [==============================] - 5s 137ms/step - loss: 0.0014\n",
            "Epoch 93/100\n",
            "35/35 [==============================] - 5s 142ms/step - loss: 0.0014\n",
            "Epoch 94/100\n",
            "35/35 [==============================] - 5s 141ms/step - loss: 0.0014\n",
            "Epoch 95/100\n",
            "35/35 [==============================] - 5s 137ms/step - loss: 0.0014\n",
            "Epoch 96/100\n",
            "35/35 [==============================] - 5s 132ms/step - loss: 0.0015\n",
            "Epoch 97/100\n",
            "35/35 [==============================] - 5s 133ms/step - loss: 0.0013\n",
            "Epoch 98/100\n",
            "35/35 [==============================] - 5s 132ms/step - loss: 0.0014\n",
            "Epoch 99/100\n",
            "35/35 [==============================] - 4s 128ms/step - loss: 0.0012\n",
            "Epoch 100/100\n",
            "35/35 [==============================] - 5s 130ms/step - loss: 0.0014\n"
          ],
          "name": "stdout"
        },
        {
          "output_type": "execute_result",
          "data": {
            "text/plain": [
              "<tensorflow.python.keras.callbacks.History at 0x7fb6bfcc3240>"
            ]
          },
          "metadata": {
            "tags": []
          },
          "execution_count": 71
        }
      ]
    },
    {
      "cell_type": "markdown",
      "metadata": {
        "id": "FzTUP5iigoeY",
        "colab_type": "text"
      },
      "source": [
        "importing test set and plotting real stock price"
      ]
    },
    {
      "cell_type": "code",
      "metadata": {
        "id": "_9iqmUoVgsWb",
        "colab_type": "code",
        "colab": {
          "base_uri": "https://localhost:8080/",
          "height": 281
        },
        "outputId": "eb96d28e-c98e-416b-90b8-8a2095e4ceb3"
      },
      "source": [
        "test_set=pd.read_csv('Google_Stock_Price_Test.csv')\n",
        "real_stock_price=test_set.iloc[:,1:2].values\n",
        "plt.plot(real_stock_price)\n",
        "plt.title('Real google stock price')\n",
        "plt.show()"
      ],
      "execution_count": 72,
      "outputs": [
        {
          "output_type": "display_data",
          "data": {
            "image/png": "[encoded data removed]",
            "text/plain": [
              "<Figure size 432x288 with 1 Axes>"
            ]
          },
          "metadata": {
            "tags": [],
            "needs_background": "light"
          }
        }
      ]
    },
    {
      "cell_type": "markdown",
      "metadata": {
        "id": "rStOTZ4EhvGp",
        "colab_type": "text"
      },
      "source": [
        "making x_test"
      ]
    },
    {
      "cell_type": "code",
      "metadata": {
        "id": "dyVCAGBphyTM",
        "colab_type": "code",
        "colab": {}
      },
      "source": [
        "x_test=[]\n",
        "dataset_total=pd.concat((dataset['Open'],test_set['Open']),axis=0)\n",
        "inputs=dataset_total[len(dataset_total)-len(test_set)-60:].values\n",
        "inputs=inputs.reshape(-1,1)\n",
        "inputs=sc.transform(inputs)\n",
        "for i in range(60,80):\n",
        "  x_test.append(inputs[i-60:i,0])\n",
        "x_test=np.array(x_test)\n",
        "x_test=np.reshape(x_test,(x_test.shape[0],x_test.shape[1],1))\n",
        "predicted_stock_price=r.predict(x_test)\n",
        "predicted_stock_price=sc.inverse_transform(predicted_stock_price)"
      ],
      "execution_count": 73,
      "outputs": []
    },
    {
      "cell_type": "markdown",
      "metadata": {
        "id": "9QcLdY7mtaaA",
        "colab_type": "text"
      },
      "source": [
        "here x_test is prepared from google stock price test similarly as x_train is prepared and also scaled as our rnn only accepts scaled inputs "
      ]
    },
    {
      "cell_type": "markdown",
      "metadata": {
        "id": "nq_d17Dylefv",
        "colab_type": "text"
      },
      "source": [
        "visualizing the results"
      ]
    },
    {
      "cell_type": "code",
      "metadata": {
        "id": "K9Vk9brBijd3",
        "colab_type": "code",
        "colab": {
          "base_uri": "https://localhost:8080/",
          "height": 295
        },
        "outputId": "d696ad81-4a05-4e6f-e035-92426babddef"
      },
      "source": [
        "plt.plot(real_stock_price, color = 'red', label = 'Real Google Stock Price')\n",
        "plt.plot(predicted_stock_price, color = 'blue', label = 'Predicted Google Stock Price')\n",
        "plt.title('Google Stock Price Prediction')\n",
        "plt.xlabel('Time')\n",
        "plt.ylabel('Google Stock Price')\n",
        "plt.legend()\n",
        "plt.show()"
      ],
      "execution_count": 74,
      "outputs": [
        {
          "output_type": "display_data",
          "data": {
            "image/png": "[encoded data removed]",
            "text/plain": [
              "<Figure size 432x288 with 1 Axes>"
            ]
          },
          "metadata": {
            "tags": [],
            "needs_background": "light"
          }
        }
      ]
    },
    {
      "cell_type": "markdown",
      "metadata": {
        "id": "w0QbaEFJtrJ8",
        "colab_type": "text"
      },
      "source": [
        "from above we can see that our rnn is almost accurate to the real predictions it also predicted the non linear jump"
      ]
    }
  ]
}